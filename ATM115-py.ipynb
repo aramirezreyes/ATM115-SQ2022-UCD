{
 "cells": [
  {
   "cell_type": "markdown",
   "id": "2b22da97",
   "metadata": {},
   "source": [
    "# ATM 115 Computing project\n",
    "In this class we will learn how to reproduce some of the plots shown in class. While doing so, we will learn how to do some basic analysis of atmospheric simulation data."
   ]
  },
  {
   "cell_type": "markdown",
   "id": "4806406d",
   "metadata": {},
   "source": [
    "## Basic: This is Python, a very popular programming language.\n",
    "It is:\n",
    "* Free \n",
    "* Open source\n",
    "* Easy to understand"
   ]
  },
  {
   "cell_type": "code",
   "execution_count": null,
   "id": "207001e4",
   "metadata": {},
   "outputs": [],
   "source": [
    "1 + 1"
   ]
  },
  {
   "cell_type": "code",
   "execution_count": null,
   "id": "26208693",
   "metadata": {},
   "outputs": [],
   "source": [
    "# This is a comment. All text that appears after \"#\" is ignored."
   ]
  },
  {
   "cell_type": "code",
   "execution_count": null,
   "id": "83725ec8",
   "metadata": {},
   "outputs": [],
   "source": [
    "#In here I am creating a variable called \"a\", and with \"=\" I am assigning the result of 1 + 1 to the variable \"a\"\n",
    "a = 1 + 1"
   ]
  },
  {
   "cell_type": "code",
   "execution_count": null,
   "id": "ca6c2c4a",
   "metadata": {},
   "outputs": [],
   "source": [
    "a"
   ]
  },
  {
   "cell_type": "markdown",
   "id": "b5943949",
   "metadata": {},
   "source": [
    "## Let us load some useful packages"
   ]
  },
  {
   "cell_type": "code",
   "execution_count": null,
   "id": "2f7fa1cf",
   "metadata": {},
   "outputs": [],
   "source": [
    "import numpy as np\n",
    "import xarray as xr\n",
    "import scipy.signal\n",
    "from matplotlib import pyplot as plt, animation\n",
    "from IPython.display import HTML, display"
   ]
  },
  {
   "cell_type": "code",
   "execution_count": null,
   "id": "5c5b11aa-89db-40b3-b48a-d82f5f9da583",
   "metadata": {},
   "outputs": [],
   "source": [
    "%matplotlib inline"
   ]
  },
  {
   "cell_type": "code",
   "execution_count": null,
   "id": "6307192a",
   "metadata": {},
   "outputs": [],
   "source": [
    "#I got this dataset from the NOAA website at https://psl.noaa.gov/cgi-bin/db_search/DBSearch.pl?Dataset=NCEP+Reanalysis&Variable=Upward+longwave+radiation+flux&group=0&submit=Search\n",
    "ds = xr.open_dataset('ulwrf.ntat.gauss.2021.nc')"
   ]
  },
  {
   "cell_type": "code",
   "execution_count": null,
   "id": "466aa8d8-9474-4815-8e16-00a941564d94",
   "metadata": {},
   "outputs": [],
   "source": [
    "ds.coords['lon'] = (ds.coords['lon'] + 180) % 360 - 180\n",
    "ds = ds.sortby(ds.lon)"
   ]
  },
  {
   "cell_type": "code",
   "execution_count": null,
   "id": "dfb047ec-aeeb-4d53-a839-456391bbccb3",
   "metadata": {},
   "outputs": [],
   "source": [
    "ds"
   ]
  },
  {
   "cell_type": "code",
   "execution_count": null,
   "id": "13c76e08-44cb-4603-8817-e4842558c82f",
   "metadata": {},
   "outputs": [],
   "source": [
    "olr = ds[\"ulwrf\"]"
   ]
  },
  {
   "cell_type": "code",
   "execution_count": null,
   "id": "b2d0a575-db23-471b-84e5-9449fc098a7a",
   "metadata": {},
   "outputs": [],
   "source": [
    "olr"
   ]
  },
  {
   "cell_type": "markdown",
   "id": "a689a9d5-4ad2-49d1-b2ef-881ebff7cd4c",
   "metadata": {},
   "source": [
    "This dataset has data of outgoing longwave radiation for one year and many latitudes and longitudes. "
   ]
  },
  {
   "cell_type": "markdown",
   "id": "6532e7a7-6061-41b1-b007-c20b6e40eeb4",
   "metadata": {},
   "source": [
    "# How dows OLR looks like on Earth? What is OLR telling us?"
   ]
  },
  {
   "cell_type": "markdown",
   "id": "78121a67-bfd7-4137-a812-a17b169abec5",
   "metadata": {},
   "source": [
    "## We can see the value of olr at a given point and time by indexing into the array (think of it as a matrix)"
   ]
  },
  {
   "cell_type": "code",
   "execution_count": null,
   "id": "1853caa7-4ead-40ab-aab1-f8e986115b4a",
   "metadata": {},
   "outputs": [],
   "source": [
    "#Xarray can help you do plots very easily\n",
    "olr[-1,:,:].plot() #Last time index, all latitudes, all longitudes"
   ]
  },
  {
   "cell_type": "markdown",
   "id": "7a064222-32a6-4eaf-8db2-eba5a791cecf",
   "metadata": {},
   "source": [
    "# Let us do an average profile to see if we can get a clue"
   ]
  },
  {
   "cell_type": "code",
   "execution_count": null,
   "id": "3470b3fd-52d0-435b-baac-510ed957a601",
   "metadata": {},
   "outputs": [],
   "source": [
    "olr.mean(dim=('time', 'lon')).plot()"
   ]
  },
  {
   "cell_type": "code",
   "execution_count": null,
   "id": "1c17914b-18b0-4365-a24d-a4af5bad84ad",
   "metadata": {},
   "outputs": [],
   "source": [
    "fig, ax = plt.subplots(figsize=(12,6))\n",
    "cax = olr[0,:,:].plot()\n",
    "\n",
    "# Next we need to create a function that updates the values for the colormesh, as well as the title.\n",
    "def animate(frame):\n",
    "    cax.set_array(olr[frame,:,:].values.flatten())\n",
    "    ax.set_title(\"Time = \" + str(olr.coords['time'].values[frame])[:13])\n",
    "\n",
    "# Finally, we use the animation module to create the animation.\n",
    "ani = animation.FuncAnimation(\n",
    "    fig,             # figure\n",
    "    animate,         # name of the function above\n",
    "    frames=500,       # Could also be iterable or list\n",
    "    interval=200     # ms between frames\n",
    ")"
   ]
  },
  {
   "cell_type": "code",
   "execution_count": null,
   "id": "62f49e34-7cda-411f-a427-c08076bf27c6",
   "metadata": {},
   "outputs": [],
   "source": []
  },
  {
   "cell_type": "code",
   "execution_count": null,
   "id": "d4fc81ea-6b92-4092-b549-e65fc959888e",
   "metadata": {},
   "outputs": [],
   "source": [
    "HTML(ani.to_jshtml())"
   ]
  },
  {
   "cell_type": "markdown",
   "id": "a9d02551-9f4c-49ce-b9e0-d162493486e3",
   "metadata": {},
   "source": [
    "Let us select only tropical latitudes. For this we use the \"sel\" method."
   ]
  },
  {
   "cell_type": "code",
   "execution_count": null,
   "id": "a62f3fb4-afdc-462c-b585-0eba4057fe2d",
   "metadata": {},
   "outputs": [],
   "source": [
    "olr_tropics = olr.sel(lat=slice(20,-20))"
   ]
  },
  {
   "cell_type": "code",
   "execution_count": null,
   "id": "96edf18f-39f5-4a94-ab5e-a556c0e7d390",
   "metadata": {},
   "outputs": [],
   "source": [
    "olr_anomaly = olr_tropics - olr_tropics.mean(dim=('lon'))"
   ]
  },
  {
   "cell_type": "code",
   "execution_count": null,
   "id": "e7c5807f-2e4a-4932-bf1e-e4bc85908746",
   "metadata": {},
   "outputs": [],
   "source": [
    "olr_anomaly[0,:,:].plot()"
   ]
  },
  {
   "cell_type": "code",
   "execution_count": null,
   "id": "69b04edf-1e86-4248-b9b6-4071b3e333a1",
   "metadata": {},
   "outputs": [],
   "source": [
    "hovmoller = olr_anomaly.mean(dim='lat')"
   ]
  },
  {
   "cell_type": "code",
   "execution_count": null,
   "id": "7862810a-6f4e-4c1c-a41a-4505ab7ae40c",
   "metadata": {},
   "outputs": [],
   "source": [
    "hovmoller.plot()"
   ]
  },
  {
   "cell_type": "code",
   "execution_count": null,
   "id": "3dbbab3e-55ce-4e72-b18f-01cdca155386",
   "metadata": {},
   "outputs": [],
   "source": [
    "# Start wheeler kiladis processing (got help from https://github.com/jamesp/msc_notebooks/blob/master/Convectively%20Coupled%20Waves.ipynb)"
   ]
  },
  {
   "cell_type": "code",
   "execution_count": null,
   "id": "f1d1c4fb-4331-4504-b593-ad29d48c3688",
   "metadata": {},
   "outputs": [],
   "source": [
    "def best_fit(xs, ys):\n",
    "    \"\"\"Using the method of least squares, return the gradient\n",
    "    and y-intercept of the line of best fit through xs and ys.\"\"\"\n",
    "    A = np.array([xs, np.ones(len(xs))])\n",
    "    return np.linalg.lstsq(A.T,ys, rcond = -1)[0]"
   ]
  },
  {
   "cell_type": "code",
   "execution_count": null,
   "id": "309abc70-dd5a-4d76-a63d-bf679f5dff75",
   "metadata": {},
   "outputs": [],
   "source": [
    "fts = []\n",
    "for j, lat in enumerate(olr_tropics.lat):\n",
    "    data = olr_tropics[:,j,:]\n",
    "    lng_avg = data.mean(dim=('lon'))\n",
    "    m,c = best_fit(range(len(lng_avg)),lng_avg.to_numpy())\n",
    "    perturbations = data - (m*range(len(lng_avg)) + c)[:, np.newaxis]\n",
    "    taper = 30\n",
    "    perturbations[:taper,:] = perturbations[:taper,:] * (np.cos(np.linspace(-np.pi/2, 0, taper))**2)[:, np.newaxis]\n",
    "    perturbations[-taper:,:] = perturbations[-taper:,:] * (np.cos(np.linspace(0, np.pi/2, taper))**2)[:, np.newaxis]\n",
    "    lft = np.fft.fft(perturbations, axis=1)     # FFT in space\n",
    "    tft = np.fft.fft(lft, axis=0)               # FFT in time\n",
    "    fts.append(np.fft.fftshift(tft))\n",
    "fts = np.array(fts)\n",
    "fts = fts[:, :, ::-1]"
   ]
  },
  {
   "cell_type": "code",
   "execution_count": null,
   "id": "05380817-5d17-4299-860f-5e9ad5eede87",
   "metadata": {},
   "outputs": [],
   "source": [
    "def power(spectra):\n",
    "    return np.abs(spectra)**2\n",
    "\n",
    "\n",
    "def background(spectra, fsteps=10, ksteps=10):\n",
    "    \"\"\"Uses a 1-2-1 filter to generate 'red noise' background field for a spectra (as per WK1998)\n",
    "        `fsteps` is the number of times to apply the filter in the frequency direction\n",
    "        `ksteps` is the number of times to apply the filter in the wavenumber direction\n",
    "    \n",
    "    Returns a background field of same dimensions as `spectra`.\n",
    "    \"\"\"\n",
    "    # create a 1D 1-2-1 averaging footprint\n",
    "    bgf = spectra\n",
    "    for i in range(fsteps):\n",
    "        # repeated application of the 1-2-1 blur filter to the spectra\n",
    "        footprint = np.array([[0,1,0], [0,2,0], [0,1,0]]) / 4.0\n",
    "        bgf = scipy.signal.convolve2d(bgf, footprint, mode='same', boundary='wrap')\n",
    "    for i in range(ksteps):\n",
    "        # repeated application of the 1-2-1 blur filter to the spectra\n",
    "        footprint = np.array([[0,0,0], [1,2,1], [0,0,0]]) / 4.0\n",
    "        bgf = scipy.signal.convolve2d(bgf, footprint, mode='same', boundary='wrap')\n",
    "    \n",
    "    return bgf\n",
    "\n",
    "def remove_background(spectra):\n",
    "    \"\"\"A simple background removal to eliminate frequency noise.\"\"\"\n",
    "    bg = background(spectra, fsteps=10, ksteps=10)\n",
    "    return spectra - bg"
   ]
  },
  {
   "cell_type": "code",
   "execution_count": null,
   "id": "f9631107-f956-41ca-85cb-628e35322f9c",
   "metadata": {},
   "outputs": [],
   "source": [
    "def plot_power_spectra(spectra, dt=None):\n",
    "    nw, nk = spectra.shape\n",
    "    T = 6*3600.0*nw/86400.0\n",
    "    #print(T/86400.) Should be 365\n",
    "    ks = np.arange(-nk/2, nk/2)  # non-dim wavenumber and frequency\n",
    "    ws = np.arange(-nw/2, nw/2)\n",
    "    #rearth =  6371220.00\n",
    "    #ksd = ks / rearth            # dimmed wavenumber and frequency\n",
    "    wsd = ws * np.pi*2.0 / T\n",
    "\n",
    "    plt.pcolormesh(ks, wsd, np.log(spectra),cmap='turbo')\n",
    "\n",
    "    plt.xlim((-100, 100))    # show up to wavenumber +/- 100 \n",
    "    plt.ylim((0, 4))          # show positive frequencies, up to one wavelength per day\n",
    "    plt.xlabel('wavenumber $k$')\n",
    "    plt.ylabel('frequency $\\omega$')"
   ]
  },
  {
   "cell_type": "code",
   "execution_count": null,
   "id": "ea87dd02-7651-4dcb-bdc1-57642df62324",
   "metadata": {},
   "outputs": [],
   "source": [
    "symmetric_power = np.abs(remove_background(fts.sum(0)))"
   ]
  },
  {
   "cell_type": "code",
   "execution_count": null,
   "id": "9a200221-bc43-43e2-bf42-c3bd669ebfaf",
   "metadata": {},
   "outputs": [],
   "source": [
    "plot_power_spectra(symmetric_power)"
   ]
  },
  {
   "cell_type": "code",
   "execution_count": null,
   "id": "c085ccaf-526b-46de-a981-6bdad83eea50",
   "metadata": {},
   "outputs": [],
   "source": []
  }
 ],
 "metadata": {
  "kernelspec": {
   "display_name": "Python 3 (ipykernel)",
   "language": "python",
   "name": "python3"
  },
  "language_info": {
   "codemirror_mode": {
    "name": "ipython",
    "version": 3
   },
   "file_extension": ".py",
   "mimetype": "text/x-python",
   "name": "python",
   "nbconvert_exporter": "python",
   "pygments_lexer": "ipython3",
   "version": "3.9.7"
  }
 },
 "nbformat": 4,
 "nbformat_minor": 5
}
